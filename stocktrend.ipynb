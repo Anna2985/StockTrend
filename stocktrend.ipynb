{
 "cells": [
  {
   "cell_type": "code",
   "execution_count": 47,
   "id": "12e96a3a",
   "metadata": {},
   "outputs": [
    {
     "name": "stdout",
     "output_type": "stream",
     "text": [
      "         date  price_open  price_close   volume\n",
      "0  2023/06/01       550.0        551.0  24927.0\n",
      "1  2023/06/02       559.0        562.0  31324.0\n",
      "2  2023/06/05       560.0        555.0  17229.0\n",
      "3  2023/06/06       554.0        560.0  20632.0\n",
      "4  2023/06/07       561.0        568.0  28668.0\n"
     ]
    }
   ],
   "source": [
    "import pandas as pd\n",
    "df = pd.read_csv(\"./股價資料.csv\")\n",
    "df[\"volume\"] = df[\"volume\"].apply(lambda x : float(x.replace(\",\",\"\")))\n",
    "\n",
    "print(df.head())"
   ]
  },
  {
   "cell_type": "code",
   "execution_count": 48,
   "id": "c9a7ec9e",
   "metadata": {},
   "outputs": [
    {
     "name": "stdout",
     "output_type": "stream",
     "text": [
      "         date  price_open  price_close   volume  yes_close  yes_volume  gain  \\\n",
      "0  2023/06/02       559.0        562.0  31324.0      551.0     24927.0  11.0   \n",
      "1  2023/06/05       560.0        555.0  17229.0      562.0     31324.0  -7.0   \n",
      "2  2023/06/06       554.0        560.0  20632.0      555.0     17229.0   5.0   \n",
      "3  2023/06/07       561.0        568.0  28668.0      560.0     20632.0   8.0   \n",
      "4  2023/06/08       562.0        559.0  23666.0      568.0     28668.0  -9.0   \n",
      "\n",
      "   Up  \n",
      "0   1  \n",
      "1   0  \n",
      "2   1  \n",
      "3   1  \n",
      "4   0  \n"
     ]
    }
   ],
   "source": [
    "#define \"yesterday closing price\" 、\"yesterday volume\"\n",
    "df[\"yes_close\"] = df[\"price_close\"].shift(periods = 1)\n",
    "df[\"yes_volume\"] = df[\"volume\"].shift(periods = 1)\n",
    "\n",
    "\n",
    "#define\"gain\" =(today closing price) - (yesterday closing price)\n",
    "df[\"gain\"] = df[\"price_close\"]-df[\"yes_close\"]\n",
    "\n",
    "\n",
    "#define \"Up\" \"Up\"==1 if \"gain\">0  \"Up\"==0 if \"gain\"<0 \n",
    "df[\"Up\"] = df[\"gain\"].apply(lambda x : 1 if x > 0 else 0)\n",
    "\n",
    "\n",
    "df = df.dropna()\n",
    "df = df.reset_index(drop = True)\n",
    "print(df.head())"
   ]
  },
  {
   "cell_type": "code",
   "execution_count": 51,
   "id": "a93412a5",
   "metadata": {},
   "outputs": [
    {
     "name": "stdout",
     "output_type": "stream",
     "text": [
      "   volume_ratio  close_price_ratio  target\n",
      "0      1.256629           1.019964     0.0\n",
      "1      0.550026           0.987544     1.0\n",
      "2      1.197516           1.009009     1.0\n",
      "3      1.389492           1.014286     0.0\n",
      "4      0.825520           0.984155     1.0\n"
     ]
    }
   ],
   "source": [
    "df_normal = pd.DataFrame()\n",
    "df_normal[\"volume_ratio\"] = df[\"volume\"].apply(pd.to_numeric)  / df[\"yes_volume\"].apply(pd.to_numeric)\n",
    "df_normal[\"close_price_ratio\"] = df[\"price_close\"].apply(pd.to_numeric) / df[\"yes_close\"].apply(pd.to_numeric)\n",
    "\n",
    "df_normal[\"target\"] = df[\"Up\"].shift(periods = -1)\n",
    "\n",
    "df_normal = df_normal.dropna()\n",
    "df_normal = df_normal.reset_index(drop=True)\n",
    "print(df_normal.head())"
   ]
  },
  {
   "cell_type": "code",
   "execution_count": 52,
   "id": "629e2ff7",
   "metadata": {},
   "outputs": [],
   "source": [
    "X=df_normal[[\"volume_ratio\", \"close_price_ratio\"]]\n",
    "y=df_normal[\"target\"]"
   ]
  },
  {
   "cell_type": "code",
   "execution_count": 53,
   "id": "4b41b98f",
   "metadata": {},
   "outputs": [
    {
     "name": "stdout",
     "output_type": "stream",
     "text": [
      "valid score of logistic:0.4642857142857143\n",
      "valid score of SVM:0.5\n",
      "valid score of naive bayes:0.4642857142857143\n",
      "valid score of DecisionTree:0.5\n",
      "valid score of RandomForest:0.4642857142857143\n",
      "valid score of AdaBoost:0.5\n",
      "valid score of Perceptron:0.4642857142857143\n"
     ]
    }
   ],
   "source": [
    "from sklearn.tree import DecisionTreeClassifier\n",
    "from sklearn.svm import SVC\n",
    "from sklearn.naive_bayes import GaussianNB, MultinomialNB\n",
    "from sklearn.linear_model import LogisticRegression, Perceptron\n",
    "from sklearn.ensemble import AdaBoostClassifier, RandomForestClassifier\n",
    "from sklearn.metrics import accuracy_score\n",
    "from sklearn.model_selection import train_test_split\n",
    "import warnings\n",
    "#Block warning messages\n",
    "warnings.filterwarnings(\"ignore\") \n",
    "\n",
    "\n",
    "x_train,x_valid,y_train,y_valid = train_test_split(X,y,test_size=0.2,random_state=42)\n",
    "\n",
    "#Classification model\n",
    "lg = LogisticRegression()\n",
    "svm = SVC(probability= True)\n",
    "nb = GaussianNB()\n",
    "dt = DecisionTreeClassifier(random_state = 42)\n",
    "rf = RandomForestClassifier(random_state = 100)\n",
    "ada = AdaBoostClassifier()\n",
    "per =  Perceptron()\n",
    "\n",
    "\n",
    "lg.fit(x_train,y_train)\n",
    "y_pred_lg = lg.predict(x_valid)\n",
    "print(f'valid score of logistic:{accuracy_score(y_valid,y_pred_lg)}')\n",
    "svm.fit(x_train,y_train)\n",
    "y_pred_svm = svm.predict(x_valid)\n",
    "print(f'valid score of SVM:{accuracy_score(y_valid,y_pred_svm)}')\n",
    "nb.fit(x_train,y_train)\n",
    "y_pred_nb = nb.predict(x_valid)\n",
    "print(f'valid score of naive bayes:{accuracy_score(y_valid,y_pred_nb)}')\n",
    "dt.fit(x_train,y_train)\n",
    "y_pred_dt = dt.predict(x_valid)\n",
    "print(f'valid score of DecisionTree:{accuracy_score(y_valid,y_pred_dt)}')\n",
    "rf.fit(x_train,y_train)\n",
    "y_pred_rf = rf.predict(x_valid)\n",
    "print(f'valid score of RandomForest:{accuracy_score(y_valid,y_pred_rf)}')\n",
    "ada.fit(x_train,y_train)\n",
    "y_pred_ada = ada.predict(x_valid)\n",
    "print(f'valid score of AdaBoost:{accuracy_score(y_valid,y_pred_ada)}')\n",
    "per.fit(x_train,y_train)\n",
    "y_pred_per = per.predict(x_valid)\n",
    "print(f'valid score of Perceptron:{accuracy_score(y_valid,y_pred_per)}')"
   ]
  },
  {
   "cell_type": "code",
   "execution_count": 54,
   "id": "d23fc129",
   "metadata": {},
   "outputs": [
    {
     "name": "stdout",
     "output_type": "stream",
     "text": [
      "Label:\n",
      "0.0    13\n",
      "1.0    15\n",
      "Name: target, dtype: int64\n",
      "----------------------------------------------------------------------------------------------------\n",
      "confusion matrix of logistic:\n",
      "[[13  0]\n",
      " [15  0]]\n",
      "----------------------------------------------------------------------------------------------------\n",
      "confusion matrix of SVM:\n",
      "[[13  0]\n",
      " [14  1]]\n",
      "----------------------------------------------------------------------------------------------------\n",
      "confusion matrix of naive bayes:\n",
      "[[12  1]\n",
      " [14  1]]\n",
      "----------------------------------------------------------------------------------------------------\n",
      "confusion matrix of DecisionTree:\n",
      "[[7 6]\n",
      " [8 7]]\n",
      "----------------------------------------------------------------------------------------------------\n",
      "confusion matrix of RandomForest:\n",
      "[[7 6]\n",
      " [9 6]]\n",
      "----------------------------------------------------------------------------------------------------\n",
      "confusion matrix of AdaBoost:\n",
      "[[8 5]\n",
      " [9 6]]\n",
      "----------------------------------------------------------------------------------------------------\n",
      "confusion matrix of Perceptron:\n",
      "[[13  0]\n",
      " [15  0]]\n",
      "----------------------------------------------------------------------------------------------------\n"
     ]
    }
   ],
   "source": [
    "#confusion_matrix\n",
    "print(f'confusion matrix of logistic:\\n{confusion_matrix(y_valid,y_pred_lg)}\\n'+'-'*100)\n",
    "print(f'confusion matrix of SVM:\\n{confusion_matrix(y_valid,y_pred_svm)}\\n'+'-'*100)\n",
    "print(f'confusion matrix of naive bayes:\\n{confusion_matrix(y_valid,y_pred_nb)}\\n'+'-'*100)\n",
    "print(f'confusion matrix of DecisionTree:\\n{confusion_matrix(y_valid,y_pred_dt)}\\n'+'-'*100)\n",
    "print(f'confusion matrix of RandomForest:\\n{confusion_matrix(y_valid,y_pred_rf)}\\n'+'-'*100)\n",
    "print(f'confusion matrix of AdaBoost:\\n{confusion_matrix(y_valid,y_pred_ada)}\\n'+'-'*100)\n",
    "print(f'confusion matrix of Perceptron:\\n{confusion_matrix(y_valid,y_pred_per)}\\n'+'-'*100)"
   ]
  },
  {
   "cell_type": "code",
   "execution_count": 55,
   "id": "90791cb7",
   "metadata": {},
   "outputs": [
    {
     "name": "stdout",
     "output_type": "stream",
     "text": [
      "valid precision score of logistic:1.0\n",
      "valid precision score of SVM:1.0\n",
      "valid precision score of naive bayes:0.5\n",
      "valid precision score of DecisionTree:0.5384615384615384\n",
      "valid precision score of RandomForest:0.5\n",
      "valid precision score of AdaBoost:0.5454545454545454\n",
      "valid precision score of Perceptron:1.0\n"
     ]
    }
   ],
   "source": [
    "from sklearn.metrics import precision_score\n",
    "\n",
    "print(f'valid precision score of logistic:{precision_score(y_valid,y_pred_lg, zero_division=1)}')\n",
    "print(f'valid precision score of SVM:{precision_score(y_valid,y_pred_svm, zero_division=1)}')\n",
    "print(f'valid precision score of naive bayes:{precision_score(y_valid,y_pred_nb)}')\n",
    "print(f'valid precision score of DecisionTree:{precision_score(y_valid,y_pred_dt)}')\n",
    "print(f'valid precision score of RandomForest:{precision_score(y_valid,y_pred_rf)}')\n",
    "print(f'valid precision score of AdaBoost:{precision_score(y_valid,y_pred_ada)}')\n",
    "print(f'valid precision score of Perceptron:{precision_score(y_valid,y_pred_per, zero_division=1)}')"
   ]
  },
  {
   "cell_type": "code",
   "execution_count": 56,
   "id": "bca6b015",
   "metadata": {},
   "outputs": [
    {
     "name": "stdout",
     "output_type": "stream",
     "text": [
      "valid recall score of logistic:0.0\n",
      "valid recall score of SVM:0.06666666666666667\n",
      "valid recall score of naive bayes:0.06666666666666667\n",
      "valid recall score of DecisionTree:0.4666666666666667\n",
      "valid recall score of RandomForest:0.4\n",
      "valid recall score of AdaBoost:0.4\n",
      "valid recall score of Perceptron:0.0\n"
     ]
    }
   ],
   "source": [
    "from sklearn.metrics import recall_score\n",
    "print(f'valid recall score of logistic:{recall_score(y_valid,y_pred_lg)}')\n",
    "print(f'valid recall score of SVM:{recall_score(y_valid,y_pred_svm)}')\n",
    "print(f'valid recall score of naive bayes:{recall_score(y_valid,y_pred_nb)}')\n",
    "print(f'valid recall score of DecisionTree:{recall_score(y_valid,y_pred_dt)}')\n",
    "print(f'valid recall score of RandomForest:{recall_score(y_valid,y_pred_rf)}')\n",
    "print(f'valid recall score of AdaBoost:{recall_score(y_valid,y_pred_ada)}')\n",
    "print(f'valid recall score of Perceptron:{recall_score(y_valid,y_pred_per)}')"
   ]
  },
  {
   "cell_type": "code",
   "execution_count": null,
   "id": "bfa207e4",
   "metadata": {},
   "outputs": [],
   "source": []
  }
 ],
 "metadata": {
  "kernelspec": {
   "display_name": "Python 3 (ipykernel)",
   "language": "python",
   "name": "python3"
  },
  "language_info": {
   "codemirror_mode": {
    "name": "ipython",
    "version": 3
   },
   "file_extension": ".py",
   "mimetype": "text/x-python",
   "name": "python",
   "nbconvert_exporter": "python",
   "pygments_lexer": "ipython3",
   "version": "3.11.5"
  }
 },
 "nbformat": 4,
 "nbformat_minor": 5
}
